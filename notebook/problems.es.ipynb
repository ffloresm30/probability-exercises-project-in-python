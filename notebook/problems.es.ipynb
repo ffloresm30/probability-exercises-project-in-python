{
 "cells": [
  {
   "cell_type": "markdown",
   "id": "a41f3622",
   "metadata": {},
   "source": [
    "# Ejercicios de probabilidad"
   ]
  },
  {
   "cell_type": "markdown",
   "id": "a6bdbd89",
   "metadata": {},
   "source": [
    "## Ejercicio 1 \n",
    "\n",
    "Dos dados se lanzan una vez y se observa el total obtenido. Usa una simulación para encontrar la probabilidad estimada de que la puntuación sea mayor a 7 o un número par. Una simulación es una repetición del mismo experimento multiples veces para observar su comportamiento:\n",
    "\n",
    "- Ejecuta el experimento 1000 veces (lanza 2 dados 1000 veces, y suma el número de ambos dados).\n",
    "- Lleva ua cuenta de los números y las veces que la suma fue mayor a 7 o un número par.\n",
    "- Divide el número del paso 2 entre el número de iteraciones(1000)."
   ]
  },
  {
   "cell_type": "code",
   "execution_count": 1,
   "id": "8939d892",
   "metadata": {},
   "outputs": [
    {
     "name": "stdout",
     "output_type": "stream",
     "text": [
      "El resultado es 0.83\n"
     ]
    }
   ],
   "source": [
    "# TODO\n",
    "\n",
    "import random\n",
    "import numpy as np\n",
    "\n",
    "#Ejecutando experimento 1000 veces simulación de lanzar 2 dados y sumar el resultado.\n",
    "\n",
    "trials = 1000\n",
    "contador = 0\n",
    "\n",
    "for _ in range(trials):\n",
    "    dado_1 =  random.randint(1,6)\n",
    "    dado_2 = random.randint(1,6)\n",
    "    suma = dado_1 + dado_2\n",
    "    if suma >= 7 or suma%2 == 0:\n",
    "        #print(dado_1, dado_2, suma) # Ésta linea de código es para corroborar que la simulación y el contador funcionan correctamente.\n",
    "        contador += 1 \n",
    "\n",
    "#Obtaining the result.\n",
    "print(f\"El resultado es {contador/trials}\")\n"
   ]
  },
  {
   "cell_type": "markdown",
   "id": "55732bca",
   "metadata": {},
   "source": [
    "## Ejercicio 2\n",
    "\n",
    "Una caja contiene 10 bolas blancas, 20 bolas rojas y 30 bolas verdes. Si tomamos 5 bolas de la caja reemplazándolas (tomando una bola, anotando el color y luego regresandola a la caja). Queremos saber la probabilidad de:\n",
    "\n",
    "1. Tomar 3 blancas y 2 rojas.\n",
    "2. Toas todas del mismo color.\n",
    "\n",
    "Ejecuta el experimento 1000 veces y calcula las probabilidades que mencionadas."
   ]
  },
  {
   "cell_type": "code",
   "execution_count": 16,
   "id": "23244d20",
   "metadata": {},
   "outputs": [
    {
     "name": "stdout",
     "output_type": "stream",
     "text": [
      "0.2\n",
      "3.9\n"
     ]
    }
   ],
   "source": [
    "import numpy as np\n",
    "\n",
    "#Primero creamos la caja que contiene la totalidas de las bolas\n",
    "caja = [\"blancas\"]*10 + [\"rojas\"]*20 + [\"verdes\"]*30\n",
    "\n",
    "#Se realiza el experimento 1000 veces\n",
    "\n",
    "trials = 1000\n",
    "\n",
    "# Generamos 2 contadores, el primero para almacenar la data del caso 1 (Tomar 3 bolas blancas y 3 bolas rojas), el segundo para almacenar la data del caso dos (Obtener todas las bolas del mismo color)\n",
    "contador1 = 0\n",
    "contador2 = 0\n",
    "\n",
    "\n",
    "#Se realiza loop para  simular que tomamos las 5 bolas de la caja y almacenamos el resultado en cado de que coincida con los supuestos que necesitamos.\n",
    "\n",
    "for _ in range(trials):\n",
    "    muestra = random.choices(caja, k = 5)\n",
    "    if muestra.count(\"blancas\") == 3 and muestra.count(\"rojas\")== 2:\n",
    "        #print(muestra)\n",
    "        contador1 += 1\n",
    "    elif muestra.count(\"blancas\") == 5 or muestra.count(\"rojas\") == 5 or muestra.count(\"verdes\") ==5:\n",
    "        #print(muestra)\n",
    "        contador2 += 1\n",
    "\n",
    "#Obteniendo resultados\n",
    "\n",
    "print((contador1/trials)*100)\n",
    "print((contador2/trials)*100)\n"
   ]
  }
 ],
 "metadata": {
  "kernelspec": {
   "display_name": "Python 3",
   "language": "python",
   "name": "python3"
  },
  "language_info": {
   "codemirror_mode": {
    "name": "ipython",
    "version": 3
   },
   "file_extension": ".py",
   "mimetype": "text/x-python",
   "name": "python",
   "nbconvert_exporter": "python",
   "pygments_lexer": "ipython3",
   "version": "3.11.4"
  }
 },
 "nbformat": 4,
 "nbformat_minor": 5
}
